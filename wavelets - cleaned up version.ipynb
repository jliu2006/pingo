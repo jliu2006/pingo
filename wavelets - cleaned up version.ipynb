{
 "cells": [
  {
   "cell_type": "code",
   "execution_count": 2,
   "id": "ce6d1401",
   "metadata": {},
   "outputs": [],
   "source": [
    "import numpy as np\n",
    "import scipy.io as sio\n",
    "import pywt"
   ]
  },
  {
   "cell_type": "code",
   "execution_count": 2,
   "id": "50b980fb",
   "metadata": {},
   "outputs": [],
   "source": [
    "# Filter bank for the 3-band 2-regular wavelet\n",
    "wv32 = (\n",
    "    ( 0.33838609728386,  0.53083618701374,  0.72328627674361,  0.23896417190576,  0.04651408217589, -0.14593600755399),\n",
    "    (-0.11737701613483,  0.54433105395181, -0.01870574735313, -0.69911956479289, -0.13608276348796,  0.42695403781698),\n",
    "    ( 0.40363686892892, -0.62853936105471,  0.46060475252131, -0.40363686892892, -0.07856742013185,  0.24650202866523)\n",
    ")\n",
    "\n",
    "# Filter bank for the 4-band 2-regular wavelet\n",
    "wv42 = (\n",
    "    (-0.067371764,  0.094195111,  0.40580489 ,  0.567371764,  0.567371764,  0.40580489 ,  0.094195111, -0.067371764),\n",
    "    (-0.094195111,  0.067371764,  0.567371764,  0.40580489,  -0.40580489 , -0.567371764, -0.067371764,  0.094195111),\n",
    "    (-0.094195111, -0.067371764,  0.567371764, -0.40580489,  -0.40580489 ,  0.567371764, -0.067371764, -0.094195111),\n",
    "    (-0.067371764, -0.094195111,  0.40580489 , -0.567371764,  0.567371764, -0.40580489 ,  0.094195111,  0.067371764)\n",
    ")\n",
    "\n",
    "# Filter bank for the 4-band 4-regular wavelet\n",
    "wv44 = (\n",
    "    ( 0.0857130200,  0.1931394393,  0.3491805097,  0.5616494215,  0.4955029828,  0.4145647737,  0.2190308939, -0.1145361261,\n",
    "     -0.0952930728, -0.1306948909, -0.0827496793,  0.0719795354,  0.0140770701,  0.0229906779,  0.0145382757, -0.0190928308),\n",
    "    (-0.1045086525,  0.1183282069, -0.1011065044, -0.0115563891,  0.6005913823, -0.2550401616, -0.4264277361, -0.0827398180,\n",
    "      0.0722022649,  0.2684936992,  0.1691549718, -0.4437039320,  0.0849964877,  0.1388163056,  0.0877812188, -0.1152813433),\n",
    "    ( 0.2560950163, -0.2048089157, -0.2503433230, -0.2484277272,  0.4477496752,  0.0010274000, -0.0621881917,  0.5562313118,\n",
    "     -0.2245618041, -0.3300536827, -0.2088643503,  0.2202951830,  0.0207171125,  0.0338351983,  0.0213958651, -0.0280987676),\n",
    "    ( 0.1839986022, -0.6622893130,  0.6880085746, -0.1379502447,  0.0446493766, -0.0823301969, -0.0923899104, -0.0233349758,\n",
    "      0.0290655661,  0.0702950474,  0.0443561794, -0.0918374833,  0.0128845052,  0.0210429802,  0.0133066389, -0.0174753464)\n",
    ")"
   ]
  },
  {
   "cell_type": "code",
   "execution_count": 3,
   "id": "4f0664c7",
   "metadata": {},
   "outputs": [],
   "source": [
    "def dwt_matrix(filter_banks, rows_per_filter_bank):\n",
    "    # Assertions that may or may not be needed\n",
    "    assert len(filter_banks) > 0\n",
    "    filter_bank_length = len(filter_banks[0])\n",
    "    assert all(len(filter_bank) == filter_bank_length for filter_bank in filter_banks)\n",
    "    assert filter_bank_length % len(filter_banks) == 0 # Not sure if this must be true\n",
    "    # Mk x Mk matrix\n",
    "    matrix_size = len(filter_banks) * rows_per_filter_bank\n",
    "    assert matrix_size >= filter_bank_length\n",
    "\n",
    "    shift = len(filter_banks) # I don't know if this is true\n",
    "    res = np.zeros((matrix_size, matrix_size))\n",
    "    row = 0\n",
    "    for filter_bank in filter_banks:\n",
    "        current_offset = 0\n",
    "        for _ in range(rows_per_filter_bank):\n",
    "            for (i, value) in enumerate(filter_bank):\n",
    "                res[row][(current_offset + i) % matrix_size] = value\n",
    "            current_offset += shift\n",
    "            row += 1\n",
    "    return res\n",
    "\n",
    "def dwt_2d(wavelet, signal):\n",
    "    bands = len(wavelet)\n",
    "    assert len(signal) % len(wavelet) == 0\n",
    "    assert np.shape(signal)[0] == np.shape(signal)[1]\n",
    "    k = len(signal) // len(wavelet)\n",
    "    matrix = dwt_matrix(wavelet, k)\n",
    "    values = np.matmul(matrix, np.matmul(signal, np.transpose(matrix)))\n",
    "    return np.array(tuple(np.split(row, bands) for row in np.split(values, bands, 1)))"
   ]
  },
  {
   "cell_type": "code",
   "execution_count": 4,
   "id": "b73f8e85",
   "metadata": {},
   "outputs": [],
   "source": [
    "def decomposeImageUsingWavelet(unprocessed, foldername, wavelet, waveletname):\n",
    "    preprocessed = np.array([np.array([dwt_2d(wavelet, band) for band in image]) for image in unprocessed])\n",
    "    for j in range(preprocessed.shape[2]):\n",
    "        for k in range(preprocessed.shape[3]):\n",
    "            mdic = {\"imgs\" : preprocessed[:, :, j, k, :, :]}\n",
    "            sio.savemat(f\"../data/{foldername}/wavelet-decomposed-py/{waveletname}/band_{j}_{k}.mat\", mdic)\n",
    "\n",
    "def decomposeImage(foldername):\n",
    "    unprocessed = sio.loadmat(f\"../data/{foldername}/unprocessed_lakes.mat\")['imgs']\n",
    "\n",
    "    for i in range(2, 6):\n",
    "        dbi = pywt.Wavelet(f'db{i}').filter_bank[2:4]\n",
    "        decomposeImageUsingWavelet(unprocessed, foldername, dbi, f'db{i}')\n",
    "\n",
    "    decomposeImageUsingWavelet(unprocessed, foldername, wv32, \"wv32\")\n",
    "    decomposeImageUsingWavelet(unprocessed, foldername, wv42, \"wv42\")\n",
    "    decomposeImageUsingWavelet(unprocessed, foldername, wv44, \"wv44\")"
   ]
  },
  {
   "cell_type": "code",
   "execution_count": 5,
   "id": "bc2f2dfe",
   "metadata": {},
   "outputs": [
    {
     "name": "stdout",
     "output_type": "stream",
     "text": [
      "CPU times: user 3min 22s, sys: 5min 39s, total: 9min 1s\n",
      "Wall time: 2min 33s\n"
     ]
    }
   ],
   "source": [
    "%%time\n",
    "\n",
    "decomposeImage(\"thermokarst_lakes_preprocessed\")\n",
    "decomposeImage(\"glacial_lakes_preprocessed\")"
   ]
  }
 ],
 "metadata": {
  "kernelspec": {
   "display_name": "Python 3 (ipykernel)",
   "language": "python",
   "name": "python3"
  },
  "language_info": {
   "codemirror_mode": {
    "name": "ipython",
    "version": 3
   },
   "file_extension": ".py",
   "mimetype": "text/x-python",
   "name": "python",
   "nbconvert_exporter": "python",
   "pygments_lexer": "ipython3",
   "version": "3.6.8"
  }
 },
 "nbformat": 4,
 "nbformat_minor": 5
}
